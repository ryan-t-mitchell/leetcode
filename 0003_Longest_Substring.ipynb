{
 "cells": [
  {
   "cell_type": "raw",
   "metadata": {},
   "source": [
    "Given a string, find the length of the longest substring without repeating characters.\n",
    "\n",
    "Example 1:\n",
    "\n",
    "Input: \"abcabcbb\"\n",
    "Output: 3 \n",
    "Explanation: The answer is \"abc\", with the length of 3. \n",
    "\n",
    "\n",
    "Example 2:\n",
    "\n",
    "Input: \"bbbbb\"\n",
    "Output: 1\n",
    "Explanation: The answer is \"b\", with the length of 1.\n",
    "\n",
    "\n",
    "Example 3:\n",
    "\n",
    "Input: \"pwwkew\"\n",
    "Output: 3\n",
    "Explanation: The answer is \"wke\", with the length of 3. \n",
    "\n",
    "\n",
    "Note that the answer must be a substring, \"pwke\" is a subsequence and not a substring."
   ]
  },
  {
   "cell_type": "markdown",
   "metadata": {},
   "source": [
    "# Found solution (Sliding Window): "
   ]
  },
  {
   "cell_type": "code",
   "execution_count": 164,
   "metadata": {},
   "outputs": [],
   "source": [
    "#https://www.youtube.com/watch?v=sZosU8JjVaA\n",
    "\n",
    "\n",
    "class Solution:\n",
    "    def lengthOfLongestSubstring(self, s):\n",
    "        \"\"\"\n",
    "        :type s: str\n",
    "        :rtype: int\n",
    "        \"\"\"\n",
    "        #Create hashtable to keep track of characters we've seen and at what index we saw them\n",
    "\n",
    "        seen = {}\n",
    "        max_length = 0 \n",
    "\n",
    "        #Initialize start index of sliding window to 0\n",
    "        start = 0\n",
    "\n",
    "        #Increment through the indices of the string (incrementing the index of the end of the window as well)\n",
    "        for end in range(len(s)):\n",
    "\n",
    "            #If we have already seen the current character, we will update the start index with the max of\n",
    "            #the current start index position, or the index at which we find that character in the seen hashtable\n",
    "\n",
    "            if s[end] in seen:\n",
    "                #Don't want the start index to be able to move backward (edge case: 'abba')\n",
    "                start = max(start, seen[s[end]] + 1)\n",
    "\n",
    "            #Add the character and its index to the hashtable\n",
    "            seen[s[end]] = end\n",
    "\n",
    "            #Update the maximum length if the length of the sliding window is larger \n",
    "            max_length = max(max_length, end - start + 1)\n",
    "\n",
    "        return max_length"
   ]
  },
  {
   "cell_type": "code",
   "execution_count": 165,
   "metadata": {},
   "outputs": [],
   "source": [
    "a = Solution()"
   ]
  },
  {
   "cell_type": "code",
   "execution_count": 166,
   "metadata": {},
   "outputs": [
    {
     "data": {
      "text/plain": [
       "2"
      ]
     },
     "execution_count": 166,
     "metadata": {},
     "output_type": "execute_result"
    }
   ],
   "source": [
    "a.lengthOfLongestSubstring('abba')"
   ]
  },
  {
   "cell_type": "code",
   "execution_count": 167,
   "metadata": {},
   "outputs": [
    {
     "data": {
      "text/plain": [
       "5"
      ]
     },
     "execution_count": 167,
     "metadata": {},
     "output_type": "execute_result"
    }
   ],
   "source": [
    "a.lengthOfLongestSubstring('nfpdmpi')"
   ]
  },
  {
   "cell_type": "markdown",
   "metadata": {},
   "source": [
    "# My solution:\n",
    "\n",
    "This works for most test cases, but fails at least one edge case and I don't want to dedicate more time to fixing this issue as it seems like poor coding technique. Will look at example solutions and learn from those!"
   ]
  },
  {
   "cell_type": "code",
   "execution_count": 136,
   "metadata": {},
   "outputs": [],
   "source": [
    "class Solution:\n",
    "    def lengthOfLongestSubstring(self, s):\n",
    "        \"\"\"\n",
    "        :type s: str\n",
    "        :rtype: int\n",
    "        \"\"\"\n",
    "\n",
    "        tmp_dict = {}\n",
    "        tmp_str = ''\n",
    "        max_str = ''\n",
    "        \n",
    "        for letter in s:\n",
    "            try: \n",
    "                #Try to increment tally for the letter to a dictionary. If this works, that means\n",
    "                #that the character is already there and we need to terminate & move on to next letter\n",
    "                \n",
    "                tmp_dict[letter] += 1\n",
    "                if len(tmp_str) > len(max_str):\n",
    "                    max_str = tmp_str\n",
    "                \n",
    "                #Empty the tmp_str and dictionary, except for most recent value (edge cases: \n",
    "                #1: 'aab'\n",
    "                #2: 'dvdf'\n",
    "                #3: 'pwwkew')\n",
    "                \n",
    "                #edge case: 'aab', if len(tmp_str) = 1 then we will get an index out of range error at this step\n",
    "                if len(tmp_str) > 1:\n",
    "                    tmp_str = tmp_str[1:] #if we have 'dvdf' we want to drop the first d, but keep 'vdf'\n",
    "                \n",
    "                \n",
    "                #edge case: 'pwwkew' - if our tmp_str doesn't begin with our letter, add it. \n",
    "                if tmp_str[0] != letter:\n",
    "                    tmp_str += letter\n",
    "                \n",
    "                #otherwise, start the tmp_str over\n",
    "                else: \n",
    "                    tmp_str = letter\n",
    "                    \n",
    "                tmp_dict[letter] = 1\n",
    "                \n",
    "                #tmp_str = letter\n",
    "                #tmp_dict[letter] = 1\n",
    "                pass\n",
    "            \n",
    "            #If the key doesn't exist, add this character to our temp string\n",
    "            except KeyError:\n",
    "                tmp_dict[letter] = 1\n",
    "                tmp_str += letter\n",
    "                if len(tmp_str) > len(max_str):\n",
    "                    max_str = tmp_str\n",
    "                    \n",
    "\n",
    "            \n",
    "        #print(max_str)\n",
    "        return len(max_str)"
   ]
  },
  {
   "cell_type": "code",
   "execution_count": 137,
   "metadata": {},
   "outputs": [],
   "source": [
    "a = Solution()"
   ]
  },
  {
   "cell_type": "markdown",
   "metadata": {},
   "source": [
    "# Correct test cases for my solution: "
   ]
  },
  {
   "cell_type": "code",
   "execution_count": 143,
   "metadata": {},
   "outputs": [
    {
     "data": {
      "text/plain": [
       "3"
      ]
     },
     "execution_count": 143,
     "metadata": {},
     "output_type": "execute_result"
    }
   ],
   "source": [
    "a.lengthOfLongestSubstring('dvdf')"
   ]
  },
  {
   "cell_type": "code",
   "execution_count": 144,
   "metadata": {},
   "outputs": [
    {
     "data": {
      "text/plain": [
       "3"
      ]
     },
     "execution_count": 144,
     "metadata": {},
     "output_type": "execute_result"
    }
   ],
   "source": [
    "a.lengthOfLongestSubstring('pwwkew')"
   ]
  },
  {
   "cell_type": "code",
   "execution_count": 145,
   "metadata": {},
   "outputs": [
    {
     "data": {
      "text/plain": [
       "2"
      ]
     },
     "execution_count": 145,
     "metadata": {},
     "output_type": "execute_result"
    }
   ],
   "source": [
    "a.lengthOfLongestSubstring('aab')"
   ]
  },
  {
   "cell_type": "markdown",
   "metadata": {},
   "source": [
    "# Incorrect edge case for my solution:"
   ]
  },
  {
   "cell_type": "code",
   "execution_count": 146,
   "metadata": {},
   "outputs": [
    {
     "data": {
      "text/plain": [
       "6"
      ]
     },
     "execution_count": 146,
     "metadata": {},
     "output_type": "execute_result"
    }
   ],
   "source": [
    "a.lengthOfLongestSubstring('nfpdmpi')"
   ]
  },
  {
   "cell_type": "code",
   "execution_count": 142,
   "metadata": {},
   "outputs": [],
   "source": [
    "# Should be 5!"
   ]
  }
 ],
 "metadata": {
  "kernelspec": {
   "display_name": "Python 3",
   "language": "python",
   "name": "python3"
  },
  "language_info": {
   "codemirror_mode": {
    "name": "ipython",
    "version": 3
   },
   "file_extension": ".py",
   "mimetype": "text/x-python",
   "name": "python",
   "nbconvert_exporter": "python",
   "pygments_lexer": "ipython3",
   "version": "3.7.0"
  }
 },
 "nbformat": 4,
 "nbformat_minor": 2
}
