{
 "cells": [
  {
   "cell_type": "raw",
   "metadata": {},
   "source": [
    "#Easy\n",
    "\n",
    "The count-and-say sequence is the sequence of integers with the first five terms as following:\n",
    "\n",
    "1.     1\n",
    "2.     11\n",
    "3.     21\n",
    "4.     1211\n",
    "5.     111221\n",
    "1 is read off as \"one 1\" or 11.\n",
    "11 is read off as \"two 1s\" or 21.\n",
    "21 is read off as \"one 2, then one 1\" or 1211.\n",
    "\n",
    "Given an integer n where 1 ≤ n ≤ 30, generate the nth term of the count-and-say sequence.\n",
    "\n",
    "Note: Each term of the sequence of integers will be represented as a string.\n",
    "\n",
    " \n",
    "\n",
    "Example 1:\n",
    "\n",
    "Input: 1\n",
    "Output: \"1\"\n",
    "\n",
    "\n",
    "Example 2:\n",
    "\n",
    "Input: 4\n",
    "Output: \"1211\""
   ]
  },
  {
   "cell_type": "code",
   "execution_count": 24,
   "metadata": {},
   "outputs": [],
   "source": [
    "def countAndSay(n):\n",
    "    \n",
    "    sequence = [1]\n",
    "    seq_str = ''\n",
    "    \n",
    "    count = 1\n",
    "    \n",
    "    num_to_say = 0\n",
    "\n",
    "    while count <= n:\n",
    "        print('count', count)\n",
    "        for digit in range(10):\n",
    "            print('digit', digit)\n",
    "            for i in range(len(sequence)):\n",
    "                if sequence[i] == digit:\n",
    "                    num_to_say += 1\n",
    "                    print('numtosay', num_to_say)\n",
    "                \n",
    "                else:\n",
    "                    pass\n",
    "\n",
    "                if num_to_say > 0:\n",
    "                    seq_str += str(num_to_say) + str(digit)\n",
    "                    print('strseq', seq_str)\n",
    "                else: \n",
    "                    pass\n",
    "            \n",
    "            #Reset the 'num to say' for each digit we need to consider (0-9)\n",
    "            num_to_say = 0\n",
    "                \n",
    "        count += 1\n",
    "        print(count)\n",
    "    print('str', seq_str)\n"
   ]
  },
  {
   "cell_type": "code",
   "execution_count": 25,
   "metadata": {},
   "outputs": [
    {
     "name": "stdout",
     "output_type": "stream",
     "text": [
      "count 1\n",
      "digit 0\n",
      "digit 1\n",
      "numtosay 1\n",
      "strseq 11\n",
      "digit 2\n",
      "digit 3\n",
      "digit 4\n",
      "digit 5\n",
      "digit 6\n",
      "digit 7\n",
      "digit 8\n",
      "digit 9\n",
      "2\n",
      "count 2\n",
      "digit 0\n",
      "digit 1\n",
      "numtosay 1\n",
      "strseq 1111\n",
      "digit 2\n",
      "digit 3\n",
      "digit 4\n",
      "digit 5\n",
      "digit 6\n",
      "digit 7\n",
      "digit 8\n",
      "digit 9\n",
      "3\n",
      "str 1111\n"
     ]
    }
   ],
   "source": [
    "countAndSay(2)"
   ]
  },
  {
   "cell_type": "code",
   "execution_count": 1,
   "metadata": {},
   "outputs": [
    {
     "data": {
      "text/plain": [
       "'51'"
      ]
     },
     "execution_count": 1,
     "metadata": {},
     "output_type": "execute_result"
    }
   ],
   "source": [
    "a = str(5) + str(1)"
   ]
  },
  {
   "cell_type": "code",
   "execution_count": null,
   "metadata": {},
   "outputs": [],
   "source": []
  }
 ],
 "metadata": {
  "kernelspec": {
   "display_name": "Python 3",
   "language": "python",
   "name": "python3"
  },
  "language_info": {
   "codemirror_mode": {
    "name": "ipython",
    "version": 3
   },
   "file_extension": ".py",
   "mimetype": "text/x-python",
   "name": "python",
   "nbconvert_exporter": "python",
   "pygments_lexer": "ipython3",
   "version": "3.7.0"
  }
 },
 "nbformat": 4,
 "nbformat_minor": 2
}
