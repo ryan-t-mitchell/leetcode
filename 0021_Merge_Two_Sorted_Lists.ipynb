{
 "cells": [
  {
   "cell_type": "raw",
   "metadata": {},
   "source": [
    "Merge two sorted linked lists and return it as a new list. The new list should be made by splicing together the nodes of the first two lists.\n",
    "\n",
    "Example:\n",
    "\n",
    "Input: 1->2->4, 1->3->4\n",
    "Output: 1->1->2->3->4->4"
   ]
  },
  {
   "cell_type": "code",
   "execution_count": 2,
   "metadata": {},
   "outputs": [],
   "source": [
    "# Definition for singly-linked list.\n",
    "\n",
    "class ListNode(object):\n",
    "    def __init__(self, x):\n",
    "        self.val = x\n",
    "        self.next = None\n",
    "\n",
    "class Solution(object):\n",
    "    def mergeTwoLists(self, l1, l2):\n",
    "        \"\"\"\n",
    "        :type l1: ListNode\n",
    "        :type l2: ListNode\n",
    "        :rtype: ListNode\n",
    "        \"\"\"\n",
    "\n",
    "        #create a head (head) and pointer (curr) for our linked list to return\n",
    "        head = curr = ListNode(0)\n",
    "\n",
    "        #while we still have nodes to traverse in our linked list inputs (keep sorted order from small to large)\n",
    "\n",
    "        while l1 or l2:\n",
    "            if ((l1 and not l2) or ((l1 and l2) and (l1.val <= l2.val))):\n",
    "                curr.next = ListNode(l1.val)\n",
    "\n",
    "                #advance the curr pointer and l1\n",
    "                curr = curr.next\n",
    "                l1 = l1.next\n",
    "\n",
    "            else:\n",
    "                curr.next = ListNode(l2.val)\n",
    "                \n",
    "                #advance the curr pointer and l2\n",
    "                curr = curr.next\n",
    "                l2 = l2.next\n",
    "\n",
    "        #return the head of our linked list (head.next because head.val is 0 and we don't want it returned)\n",
    "        return head.next"
   ]
  },
  {
   "cell_type": "code",
   "execution_count": null,
   "metadata": {},
   "outputs": [],
   "source": []
  }
 ],
 "metadata": {
  "kernelspec": {
   "display_name": "Python 3",
   "language": "python",
   "name": "python3"
  },
  "language_info": {
   "codemirror_mode": {
    "name": "ipython",
    "version": 3
   },
   "file_extension": ".py",
   "mimetype": "text/x-python",
   "name": "python",
   "nbconvert_exporter": "python",
   "pygments_lexer": "ipython3",
   "version": "3.7.0"
  }
 },
 "nbformat": 4,
 "nbformat_minor": 2
}
