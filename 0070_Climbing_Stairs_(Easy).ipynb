{
 "cells": [
  {
   "cell_type": "markdown",
   "metadata": {},
   "source": [
    "You are climbing a stair case. It takes n steps to reach to the top.\n",
    "\n",
    "Each time you can either climb 1 or 2 steps. In how many distinct ways can you climb to the top?\n",
    "\n",
    "Example 1:\n",
    "\n",
    "Input: 2\n",
    "Output: 2\n",
    "Explanation: There are two ways to climb to the top.\n",
    "1. 1 step + 1 step\n",
    "2. 2 steps\n",
    "\n",
    "Example 2:\n",
    "\n",
    "Input: 3\n",
    "Output: 3\n",
    "Explanation: There are three ways to climb to the top.\n",
    "1. 1 step + 1 step + 1 step\n",
    "2. 1 step + 2 steps\n",
    "3. 2 steps + 1 step\n",
    " \n",
    "\n",
    "Constraints:\n",
    "\n",
    "1 <= n <= 45"
   ]
  },
  {
   "cell_type": "code",
   "execution_count": 9,
   "metadata": {},
   "outputs": [],
   "source": [
    "#Hint: For any given step n, you can reach it from 2 steps away (n-2) or 1 step away (n-1).\n",
    "\n",
    "class Solution:\n",
    "    def climbStairs(self, n):\n",
    "        # This problem is actually just like the Fibonacci sequence, since the number of ways to get to step n\n",
    "        # = the number of ways to get to stair (n-1) + the number of ways to get to stair (n-2), since you \n",
    "        # can arrive at stair n from either of those two options. \n",
    "        \n",
    "        # Set base cases for stair 1 and stair 2 (only 1 way to get to stair 1, and 2 ways to get to stair 2)\n",
    "        count = [1, 2]\n",
    "        \n",
    "        if n > 2:\n",
    "            for i in range(3,n+1):\n",
    "                count.append(count[-1] + count[-2])\n",
    "            \n",
    "        return count[n-1]\n",
    "    \n",
    "    # Recursive solution, which works, but is slow (failed time limits on leetcode)\n",
    "#     def climbStairs(self, n):\n",
    "#         # Base Cases\n",
    "#         if n == 1:\n",
    "#             return 1\n",
    "#         elif n == 2:\n",
    "#             return 2\n",
    "#         else:\n",
    "#             return self.climbStairs(n-1) + self.climbStairs(n-2)\n",
    "        \n",
    "        \n",
    "            "
   ]
  },
  {
   "cell_type": "code",
   "execution_count": 10,
   "metadata": {},
   "outputs": [],
   "source": [
    "a = Solution()"
   ]
  },
  {
   "cell_type": "code",
   "execution_count": 12,
   "metadata": {},
   "outputs": [
    {
     "data": {
      "text/plain": [
       "8"
      ]
     },
     "execution_count": 12,
     "metadata": {},
     "output_type": "execute_result"
    }
   ],
   "source": [
    "a.climbStairs(5)"
   ]
  }
 ],
 "metadata": {
  "kernelspec": {
   "display_name": "Python 3",
   "language": "python",
   "name": "python3"
  },
  "language_info": {
   "codemirror_mode": {
    "name": "ipython",
    "version": 3
   },
   "file_extension": ".py",
   "mimetype": "text/x-python",
   "name": "python",
   "nbconvert_exporter": "python",
   "pygments_lexer": "ipython3",
   "version": "3.7.7"
  }
 },
 "nbformat": 4,
 "nbformat_minor": 4
}
