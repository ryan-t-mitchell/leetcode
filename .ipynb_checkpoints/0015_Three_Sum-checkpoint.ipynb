{
 "cells": [
  {
   "cell_type": "raw",
   "metadata": {},
   "source": [
    "# Medium\n",
    "\n",
    "Given an array nums of n integers, are there elements a, b, c in nums such that a + b + c = 0? Find all unique triplets in the array which gives the sum of zero.\n",
    "\n",
    "Note:\n",
    "\n",
    "The solution set must not contain duplicate triplets.\n",
    "\n",
    "Example:\n",
    "\n",
    "Given array nums = [-1, 0, 1, 2, -1, -4],\n",
    "\n",
    "A solution set is:\n",
    "[\n",
    "  [-1, 0, 1],\n",
    "  [-1, -1, 2]\n",
    "]"
   ]
  },
  {
   "cell_type": "code",
   "execution_count": 135,
   "metadata": {},
   "outputs": [],
   "source": [
    "def threeSum(nums):\n",
    "    \n",
    "    solutions = []\n",
    "    \n",
    "    for i1 in range(len(nums)):\n",
    "        for i2 in range(i1+1, len(nums)):\n",
    "            for i3 in range(i1+2, len(nums)):\n",
    "                if nums[i1] + nums[i2] + nums[i3] == 0:\n",
    "                    solutions.append([nums[i1], nums[i2], nums[i3]])\n",
    "    return solutions"
   ]
  },
  {
   "cell_type": "code",
   "execution_count": 136,
   "metadata": {},
   "outputs": [],
   "source": [
    "solutions = threeSum([-1, 0, 1, 2, -1, -4])"
   ]
  },
  {
   "cell_type": "code",
   "execution_count": 137,
   "metadata": {},
   "outputs": [
    {
     "name": "stdout",
     "output_type": "stream",
     "text": [
      "[[-1, 0, 1], [-1, 2, -1], [-1, -1, 2], [0, 1, -1]]\n"
     ]
    }
   ],
   "source": [
    "print(solutions)"
   ]
  },
  {
   "cell_type": "code",
   "execution_count": 138,
   "metadata": {},
   "outputs": [],
   "source": [
    "x = {'a': [-1]}\n",
    "x['b'] = [0]\n",
    "x['c'] = [1]"
   ]
  },
  {
   "cell_type": "code",
   "execution_count": 139,
   "metadata": {},
   "outputs": [
    {
     "data": {
      "text/plain": [
       "{'a': [-1], 'b': [0], 'c': [1]}"
      ]
     },
     "execution_count": 139,
     "metadata": {},
     "output_type": "execute_result"
    }
   ],
   "source": [
    "x"
   ]
  },
  {
   "cell_type": "code",
   "execution_count": 140,
   "metadata": {},
   "outputs": [],
   "source": [
    "sol = [0, 1, -1]"
   ]
  },
  {
   "cell_type": "code",
   "execution_count": 141,
   "metadata": {},
   "outputs": [
    {
     "name": "stdout",
     "output_type": "stream",
     "text": [
      "item 0\n",
      "i 0\n",
      "False\n",
      "True\n",
      "False\n",
      "item 1\n",
      "i 0\n",
      "False\n",
      "True\n",
      "True\n",
      "item -1\n",
      "i 0\n",
      "True\n",
      "True\n",
      "True\n",
      "duplicate\n"
     ]
    }
   ],
   "source": [
    "in_a = False\n",
    "in_b = False\n",
    "in_c = False\n",
    "\n",
    "for item in sol:\n",
    "    \n",
    "    print('item', item)\n",
    "    if item in (x['a'] + x['b'] + x['c']):\n",
    "        for i in range(len(x['a'])):\n",
    "            \n",
    "            print('i', i)\n",
    "            \n",
    "            in_a = max(in_a, item == x['a'][i])\n",
    "            in_b = max(in_b, item == x['b'][i])\n",
    "            in_c = max(in_c, item == x['c'][i])\n",
    "            \n",
    "            print(in_a)\n",
    "            print(in_b)\n",
    "            print(in_c)\n",
    "    \n",
    "if in_a + in_b + in_c == 3:\n",
    "    print('duplicate')\n",
    "    \n",
    "else:\n",
    "    print('appending')\n",
    "    solutions.append(sol)\n",
    "        \n",
    "    "
   ]
  },
  {
   "cell_type": "code",
   "execution_count": 142,
   "metadata": {},
   "outputs": [
    {
     "data": {
      "text/plain": [
       "[[-1, 0, 1], [-1, 2, -1], [-1, -1, 2], [0, 1, -1]]"
      ]
     },
     "execution_count": 142,
     "metadata": {},
     "output_type": "execute_result"
    }
   ],
   "source": [
    "solutions"
   ]
  }
 ],
 "metadata": {
  "kernelspec": {
   "display_name": "Python 3",
   "language": "python",
   "name": "python3"
  },
  "language_info": {
   "codemirror_mode": {
    "name": "ipython",
    "version": 3
   },
   "file_extension": ".py",
   "mimetype": "text/x-python",
   "name": "python",
   "nbconvert_exporter": "python",
   "pygments_lexer": "ipython3",
   "version": "3.7.0"
  }
 },
 "nbformat": 4,
 "nbformat_minor": 2
}
