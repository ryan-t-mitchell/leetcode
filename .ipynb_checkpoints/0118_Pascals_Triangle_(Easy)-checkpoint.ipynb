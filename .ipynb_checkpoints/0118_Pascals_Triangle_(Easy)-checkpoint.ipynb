{
 "cells": [
  {
   "cell_type": "markdown",
   "metadata": {},
   "source": [
    "Given a non-negative integer numRows, generate the first numRows of Pascal's triangle."
   ]
  },
  {
   "cell_type": "markdown",
   "metadata": {},
   "source": [
    "Example:\n",
    "\n",
    "Input: 5\n",
    "Output:\n",
    "[\n",
    "     [1],\n",
    "    [1,1],\n",
    "   [1,2,1],\n",
    "  [1,3,3,1],\n",
    " [1,4,6,4,1]\n",
    "]"
   ]
  },
  {
   "cell_type": "code",
   "execution_count": 116,
   "metadata": {},
   "outputs": [],
   "source": [
    "class Solution:\n",
    "    def generate(self, numRows):\n",
    "        # Seed the triangle\n",
    "        output = [[1], [1,1]]\n",
    "        \n",
    "        if numRows == 0:\n",
    "            output = []\n",
    "        if numRows == 1:\n",
    "            output = [[1]]\n",
    "        elif numRows == 2:\n",
    "            return output\n",
    "        else:\n",
    "            for row in range(2,numRows): #starting at row 2 for generating triangle (row 0 and row 1 already exist)\n",
    "                new_row = []\n",
    "                for col in range(row+1): #the number of columns in a given row will equal the row number\n",
    "                    if col == 0 or col == row:\n",
    "                        new_row.append(1) #each new row must start and end with a 1\n",
    "                    else:\n",
    "                        new_row.append(output[row-1][col-1] + output[row-1][col])\n",
    "                output.append(new_row)\n",
    "        return output"
   ]
  },
  {
   "cell_type": "code",
   "execution_count": 117,
   "metadata": {},
   "outputs": [],
   "source": [
    "a = Solution()"
   ]
  },
  {
   "cell_type": "code",
   "execution_count": 118,
   "metadata": {},
   "outputs": [
    {
     "data": {
      "text/plain": [
       "[[1], [1, 1], [1, 2, 1], [1, 3, 3, 1], [1, 4, 6, 4, 1]]"
      ]
     },
     "execution_count": 118,
     "metadata": {},
     "output_type": "execute_result"
    }
   ],
   "source": [
    "a.generate(5)"
   ]
  }
 ],
 "metadata": {
  "kernelspec": {
   "display_name": "Python 3",
   "language": "python",
   "name": "python3"
  },
  "language_info": {
   "codemirror_mode": {
    "name": "ipython",
    "version": 3
   },
   "file_extension": ".py",
   "mimetype": "text/x-python",
   "name": "python",
   "nbconvert_exporter": "python",
   "pygments_lexer": "ipython3",
   "version": "3.7.7"
  }
 },
 "nbformat": 4,
 "nbformat_minor": 4
}
