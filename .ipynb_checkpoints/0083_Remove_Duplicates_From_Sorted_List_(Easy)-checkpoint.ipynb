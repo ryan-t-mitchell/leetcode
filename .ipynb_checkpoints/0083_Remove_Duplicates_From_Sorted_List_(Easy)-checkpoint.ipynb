{
 "cells": [
  {
   "cell_type": "markdown",
   "metadata": {},
   "source": [
    "Given a sorted linked list, delete all duplicates such that each element appear only once.\n",
    "\n",
    "Example 1:\n",
    "\n",
    "Input: 1->1->2\n",
    "Output: 1->2\n",
    "\n",
    "Example 2:\n",
    "\n",
    "Input: 1->1->2->3->3\n",
    "Output: 1->2->3"
   ]
  },
  {
   "cell_type": "code",
   "execution_count": 1,
   "metadata": {},
   "outputs": [],
   "source": [
    "#Definition for singly-linked list.\n",
    "# class ListNode:\n",
    "#     def __init__(self, val=0, next=None):\n",
    "#         self.val = val\n",
    "#         self.next = next\n",
    "        \n",
    "class Solution:\n",
    "    def deleteDuplicates(self, head):\n",
    "    \n",
    "    #head is a listnode and we need to retun a listnode\n",
    "        curr = head\n",
    "        \n",
    "        # Added try/except to deal with scenario where there is only 1 node\n",
    "        \n",
    "        try:\n",
    "            while curr.next:\n",
    "                if curr.val == curr.next.val:\n",
    "                    # Step forward 2\n",
    "                    curr.next = curr.next.next\n",
    "                \n",
    "                else:\n",
    "                    # Step forward 1\n",
    "                    curr = curr.next\n",
    "            \n",
    "            return head\n",
    "            \n",
    "        except:\n",
    "            return head\n"
   ]
  },
  {
   "cell_type": "code",
   "execution_count": null,
   "metadata": {},
   "outputs": [],
   "source": []
  }
 ],
 "metadata": {
  "kernelspec": {
   "display_name": "Python 3",
   "language": "python",
   "name": "python3"
  },
  "language_info": {
   "codemirror_mode": {
    "name": "ipython",
    "version": 3
   },
   "file_extension": ".py",
   "mimetype": "text/x-python",
   "name": "python",
   "nbconvert_exporter": "python",
   "pygments_lexer": "ipython3",
   "version": "3.7.7"
  }
 },
 "nbformat": 4,
 "nbformat_minor": 4
}
