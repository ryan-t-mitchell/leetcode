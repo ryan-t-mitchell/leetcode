{
 "cells": [
  {
   "cell_type": "markdown",
   "metadata": {},
   "source": [
    "Given an array of integers, return indices of the two numbers such that they add up to a specific target.\n",
    "\n",
    "You may assume that each input would have exactly one solution, and you may not use the same element twice.\n",
    "\n",
    "Example:\n",
    "\n",
    "Given nums = [2, 7, 11, 15], target = 9,\n",
    "\n",
    "Because nums[0] + nums[1] = 2 + 7 = 9,\n",
    "return [0, 1]."
   ]
  },
  {
   "cell_type": "code",
   "execution_count": 4,
   "metadata": {},
   "outputs": [],
   "source": [
    "#Brute force method\n",
    "class Solution:\n",
    "    def twoSum(self, nums, target):\n",
    "        \"\"\"\n",
    "        :type nums: List[int]\n",
    "        :type target: int\n",
    "        :rtype: List[int]\n",
    "        \"\"\"\n",
    "        for i in range(len(nums)):\n",
    "            for j in range(i+1, len(nums)):\n",
    "                tmp = nums[i] + nums[j]\n",
    "                if tmp == target:\n",
    "                    return [i, j]\n",
    "\n",
    "#Computation time is O(n^2) because we have to loop through the list for each element in the list  = n * n"
   ]
  },
  {
   "cell_type": "code",
   "execution_count": 5,
   "metadata": {},
   "outputs": [],
   "source": [
    "s = Solution()"
   ]
  },
  {
   "cell_type": "code",
   "execution_count": 6,
   "metadata": {},
   "outputs": [
    {
     "data": {
      "text/plain": [
       "[0, 1]"
      ]
     },
     "execution_count": 6,
     "metadata": {},
     "output_type": "execute_result"
    }
   ],
   "source": [
    "s.twoSum([2,7,11,15], 9)"
   ]
  },
  {
   "cell_type": "code",
   "execution_count": 102,
   "metadata": {},
   "outputs": [],
   "source": [
    "#Smarter method uses a dictionary (hash table) which allows lookups in real time O(1). We have to do this for n \n",
    "#elements in the nums list, so total computation time would be O(n).\n",
    "\n",
    "class Solution:\n",
    "    def twoSum(self, nums, target):\n",
    "        hashtbl = {}\n",
    "        for i, num in enumerate(nums):\n",
    "            #The real key to the problem is to make the KEY to the dict the number whose index we want.\n",
    "            #Normally, I'd be tempted to do the oposite, where the dict looks like {0:2, 1:7, 2:11, 3:15}\n",
    "            \n",
    "            #HOWEVER, if we do it this way, the keys may not be unique. We could have nums = [2,2,...] so we have \n",
    "            #to account for this possibility\n",
    "            \n",
    "            try:\n",
    "                hashtbl[num].append(i) #This says: try adding this index element to a list \n",
    "                \n",
    "            except KeyError:  \n",
    "                #If there's not a list for this num yet, Python will throw a KeyError.\n",
    "                #This line of code says: if there is no element in our dict for this num yet, create it!\n",
    "                hashtbl[num] = [i] #Start a list if there isn't an existing list already\n",
    "                \n",
    "        #Now that hash table is constructed, find whether the desired number is in the table\n",
    "        \n",
    "        for i, num in enumerate(nums):\n",
    "            desired = target - nums[i]\n",
    "\n",
    "            try:\n",
    "                j = hashtbl[desired]\n",
    "                \n",
    "                if j[0] == i:\n",
    "                    pass #We can't use the same index twice, so move on with the loop in this case\n",
    "                \n",
    "                else: \n",
    "                    break #break the for-loop once we have a solution\n",
    "                \n",
    "            except KeyError: \n",
    "                pass\n",
    "            \n",
    "        return [i, j[0]]"
   ]
  },
  {
   "cell_type": "code",
   "execution_count": 108,
   "metadata": {},
   "outputs": [
    {
     "data": {
      "text/plain": [
       "[0, 1]"
      ]
     },
     "execution_count": 108,
     "metadata": {},
     "output_type": "execute_result"
    }
   ],
   "source": [
    "s = Solution()\n",
    "s.twoSum([2,7,11,15], 9)"
   ]
  },
  {
   "cell_type": "code",
   "execution_count": null,
   "metadata": {},
   "outputs": [],
   "source": []
  }
 ],
 "metadata": {
  "kernelspec": {
   "display_name": "Python 3",
   "language": "python",
   "name": "python3"
  },
  "language_info": {
   "codemirror_mode": {
    "name": "ipython",
    "version": 3
   },
   "file_extension": ".py",
   "mimetype": "text/x-python",
   "name": "python",
   "nbconvert_exporter": "python",
   "pygments_lexer": "ipython3",
   "version": "3.7.0"
  }
 },
 "nbformat": 4,
 "nbformat_minor": 2
}
