{
 "cells": [
  {
   "cell_type": "raw",
   "metadata": {},
   "source": [
    "Given a string containing just the characters '(', ')', '{', '}', '[' and ']', determine if the input string is valid.\n",
    "\n",
    "An input string is valid if:\n",
    "\n",
    "Open brackets must be closed by the same type of brackets.\n",
    "Open brackets must be closed in the correct order.\n",
    "Note that an empty string is also considered valid.\n",
    "\n",
    "Example 1:\n",
    "\n",
    "Input: \"()\"\n",
    "Output: true\n",
    "\n",
    "Example 2:\n",
    "\n",
    "Input: \"()[]{}\"\n",
    "Output: true\n",
    "\n",
    "Example 3:\n",
    "\n",
    "Input: \"(]\"\n",
    "Output: false\n",
    "\n",
    "Example 4:\n",
    "\n",
    "Input: \"([)]\"\n",
    "Output: false\n",
    "\n",
    "Example 5:\n",
    "\n",
    "Input: \"{[]}\"\n",
    "Output: true"
   ]
  },
  {
   "cell_type": "code",
   "execution_count": 67,
   "metadata": {},
   "outputs": [],
   "source": [
    "class Solution(object):\n",
    "\n",
    "    def isValid(self, s):\n",
    "\n",
    "        \"\"\"\n",
    "        :type s: str\n",
    "        :rtype: bool\n",
    "        \"\"\"\n",
    "\n",
    "        #innermost_open must be followed by a close of same type\n",
    "        #any open must be followed by another open or a close of the same type\n",
    "        p_open = ['(', '{', '[']\n",
    "        p_closed = [')', '}', ']']\n",
    "\n",
    "        valid = True\n",
    "        open_index = []\n",
    "\n",
    "        for i, item in enumerate(s):\n",
    "            if ((i == 0) & (item in p_closed)) or ((i == len(s)-1) & (item in p_open)) or (len(s) % 2 != 0):\n",
    "                valid = False\n",
    "                return valid\n",
    "            \n",
    "        #keep index of all openings\n",
    "            if item in p_open:\n",
    "                open_index.append(i)\n",
    "                \n",
    "\n",
    "        def isClosed(i, s):\n",
    "            if s[i] == '(':\n",
    "                return s[i+1] == ')'\n",
    "            elif s[i] == \"{\":\n",
    "                return s[i+1] == '}'\n",
    "            else:\n",
    "                return s[i+1] == ']'\n",
    "                \n",
    "        #reclassify s as a list so that we can perform some list operations (like reassigning characters to '')\n",
    "        s = list(s)\n",
    "        \n",
    "        #starting from the last opening, make sure the next item in the string is a closure of the same type\n",
    "        for i in open_index[::-1]:\n",
    "            if isClosed(i, s) == False:\n",
    "                valid = False\n",
    "                return valid\n",
    "            #if the next one is a valid closure, drop these two characters from the string and repeat\n",
    "            else:\n",
    "                s[i:i+2] = ''\n",
    "\n",
    "        return valid"
   ]
  },
  {
   "cell_type": "code",
   "execution_count": 68,
   "metadata": {},
   "outputs": [
    {
     "name": "stdout",
     "output_type": "stream",
     "text": [
      "True\n",
      "True\n",
      "False\n",
      "False\n",
      "True\n"
     ]
    }
   ],
   "source": [
    "a = Solution()\n",
    "\n",
    "print(a.isValid('()'))\n",
    "print(a.isValid('()[]{}'))\n",
    "print(a.isValid('(]'))\n",
    "print(a.isValid('([)]'))\n",
    "print(a.isValid('{[]}'))\n",
    "\n",
    "\n",
    "#Want T, T, F, F, T"
   ]
  },
  {
   "cell_type": "code",
   "execution_count": 79,
   "metadata": {},
   "outputs": [],
   "source": [
    "# A slightly faster solution taken from leetcode:\n",
    "\n",
    "class Solution(object):\n",
    "\n",
    "    def isValid(self, s):\n",
    "        mapping = { \")\": \"(\", \"}\": \"{\", \"]\": \"[\" }\n",
    "        stack = []\n",
    "\n",
    "        for ch in s :\n",
    "            if ch in ['(', '{',  '[' ]:\n",
    "                stack.append(ch)\n",
    "            else:\n",
    "                top_element = stack.pop() if stack else '#'\n",
    "                if mapping[ch] != top_element:\n",
    "                    return False\n",
    "        if stack:\n",
    "            return False\n",
    "        else:\n",
    "            return True"
   ]
  },
  {
   "cell_type": "code",
   "execution_count": 80,
   "metadata": {},
   "outputs": [
    {
     "name": "stdout",
     "output_type": "stream",
     "text": [
      "True\n",
      "True\n",
      "False\n",
      "False\n",
      "True\n"
     ]
    }
   ],
   "source": [
    "a = Solution()\n",
    "\n",
    "print(a.isValid('()'))\n",
    "print(a.isValid('()[]{}'))\n",
    "print(a.isValid('(]'))\n",
    "print(a.isValid('([)]'))\n",
    "print(a.isValid('{[]}'))\n",
    "\n",
    "\n",
    "#Want T, T, F, F, T"
   ]
  },
  {
   "cell_type": "code",
   "execution_count": null,
   "metadata": {},
   "outputs": [],
   "source": []
  }
 ],
 "metadata": {
  "kernelspec": {
   "display_name": "Python 3",
   "language": "python",
   "name": "python3"
  },
  "language_info": {
   "codemirror_mode": {
    "name": "ipython",
    "version": 3
   },
   "file_extension": ".py",
   "mimetype": "text/x-python",
   "name": "python",
   "nbconvert_exporter": "python",
   "pygments_lexer": "ipython3",
   "version": "3.7.0"
  }
 },
 "nbformat": 4,
 "nbformat_minor": 2
}
